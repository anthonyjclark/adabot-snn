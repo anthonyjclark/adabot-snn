{
 "cells": [
  {
   "cell_type": "code",
   "execution_count": 217,
   "metadata": {},
   "outputs": [],
   "source": [
    "import pickle\n",
    "from math import sqrt, cos, sin, atan2, pi\n",
    "from time import time\n",
    "\n",
    "import numpy as np\n",
    "import pandas as pd\n",
    "import matplotlib.pyplot as plt\n",
    "\n",
    "from sklearn.neural_network import MLPRegressor"
   ]
  },
  {
   "cell_type": "code",
   "execution_count": 32,
   "metadata": {},
   "outputs": [
    {
     "data": {
      "text/html": [
       "<div>\n",
       "<style scoped>\n",
       "    .dataframe tbody tr th:only-of-type {\n",
       "        vertical-align: middle;\n",
       "    }\n",
       "\n",
       "    .dataframe tbody tr th {\n",
       "        vertical-align: top;\n",
       "    }\n",
       "\n",
       "    .dataframe thead th {\n",
       "        text-align: right;\n",
       "    }\n",
       "</style>\n",
       "<table border=\"1\" class=\"dataframe\">\n",
       "  <thead>\n",
       "    <tr style=\"text-align: right;\">\n",
       "      <th></th>\n",
       "      <th>dlon</th>\n",
       "      <th>dlat</th>\n",
       "      <th>dyaw</th>\n",
       "      <th>left</th>\n",
       "      <th>right</th>\n",
       "      <th>strut</th>\n",
       "    </tr>\n",
       "  </thead>\n",
       "  <tbody>\n",
       "    <tr>\n",
       "      <th>count</th>\n",
       "      <td>9008.000000</td>\n",
       "      <td>9008.000000</td>\n",
       "      <td>9008.000000</td>\n",
       "      <td>9008.000000</td>\n",
       "      <td>9008.000000</td>\n",
       "      <td>9008.000000</td>\n",
       "    </tr>\n",
       "    <tr>\n",
       "      <th>mean</th>\n",
       "      <td>0.500073</td>\n",
       "      <td>0.499224</td>\n",
       "      <td>0.495235</td>\n",
       "      <td>0.500019</td>\n",
       "      <td>0.500022</td>\n",
       "      <td>0.500111</td>\n",
       "    </tr>\n",
       "    <tr>\n",
       "      <th>std</th>\n",
       "      <td>0.168608</td>\n",
       "      <td>0.152776</td>\n",
       "      <td>0.160749</td>\n",
       "      <td>0.297249</td>\n",
       "      <td>0.297226</td>\n",
       "      <td>0.353534</td>\n",
       "    </tr>\n",
       "    <tr>\n",
       "      <th>min</th>\n",
       "      <td>0.000000</td>\n",
       "      <td>0.000000</td>\n",
       "      <td>0.000000</td>\n",
       "      <td>0.000000</td>\n",
       "      <td>0.000000</td>\n",
       "      <td>0.000000</td>\n",
       "    </tr>\n",
       "    <tr>\n",
       "      <th>25%</th>\n",
       "      <td>0.391566</td>\n",
       "      <td>0.389071</td>\n",
       "      <td>0.382418</td>\n",
       "      <td>0.250000</td>\n",
       "      <td>0.250000</td>\n",
       "      <td>0.250000</td>\n",
       "    </tr>\n",
       "    <tr>\n",
       "      <th>50%</th>\n",
       "      <td>0.499441</td>\n",
       "      <td>0.499313</td>\n",
       "      <td>0.494741</td>\n",
       "      <td>0.500000</td>\n",
       "      <td>0.500000</td>\n",
       "      <td>0.500000</td>\n",
       "    </tr>\n",
       "    <tr>\n",
       "      <th>75%</th>\n",
       "      <td>0.608332</td>\n",
       "      <td>0.608775</td>\n",
       "      <td>0.607213</td>\n",
       "      <td>0.750000</td>\n",
       "      <td>0.750000</td>\n",
       "      <td>0.750000</td>\n",
       "    </tr>\n",
       "    <tr>\n",
       "      <th>max</th>\n",
       "      <td>1.000000</td>\n",
       "      <td>1.000000</td>\n",
       "      <td>1.000000</td>\n",
       "      <td>1.000000</td>\n",
       "      <td>1.000000</td>\n",
       "      <td>1.000000</td>\n",
       "    </tr>\n",
       "  </tbody>\n",
       "</table>\n",
       "</div>"
      ],
      "text/plain": [
       "              dlon         dlat         dyaw         left        right  \\\n",
       "count  9008.000000  9008.000000  9008.000000  9008.000000  9008.000000   \n",
       "mean      0.500073     0.499224     0.495235     0.500019     0.500022   \n",
       "std       0.168608     0.152776     0.160749     0.297249     0.297226   \n",
       "min       0.000000     0.000000     0.000000     0.000000     0.000000   \n",
       "25%       0.391566     0.389071     0.382418     0.250000     0.250000   \n",
       "50%       0.499441     0.499313     0.494741     0.500000     0.500000   \n",
       "75%       0.608332     0.608775     0.607213     0.750000     0.750000   \n",
       "max       1.000000     1.000000     1.000000     1.000000     1.000000   \n",
       "\n",
       "             strut  \n",
       "count  9008.000000  \n",
       "mean      0.500111  \n",
       "std       0.353534  \n",
       "min       0.000000  \n",
       "25%       0.250000  \n",
       "50%       0.500000  \n",
       "75%       0.750000  \n",
       "max       1.000000  "
      ]
     },
     "execution_count": 32,
     "metadata": {},
     "output_type": "execute_result"
    }
   ],
   "source": [
    "# Read pickle file\n",
    "df = pd.read_pickle('../sim/sweep/data1/f0.9/pd-data.pickle')\n",
    "df.describe()"
   ]
  },
  {
   "cell_type": "code",
   "execution_count": 184,
   "metadata": {},
   "outputs": [
    {
     "data": {
      "text/html": [
       "<div>\n",
       "<style scoped>\n",
       "    .dataframe tbody tr th:only-of-type {\n",
       "        vertical-align: middle;\n",
       "    }\n",
       "\n",
       "    .dataframe tbody tr th {\n",
       "        vertical-align: top;\n",
       "    }\n",
       "\n",
       "    .dataframe thead th {\n",
       "        text-align: right;\n",
       "    }\n",
       "</style>\n",
       "<table border=\"1\" class=\"dataframe\">\n",
       "  <thead>\n",
       "    <tr style=\"text-align: right;\">\n",
       "      <th></th>\n",
       "      <th>dlon</th>\n",
       "      <th>dlat</th>\n",
       "      <th>dyaw</th>\n",
       "      <th>left</th>\n",
       "      <th>right</th>\n",
       "      <th>strut</th>\n",
       "    </tr>\n",
       "  </thead>\n",
       "  <tbody>\n",
       "    <tr>\n",
       "      <th>count</th>\n",
       "      <td>9008.000000</td>\n",
       "      <td>9.008000e+03</td>\n",
       "      <td>9.008000e+03</td>\n",
       "      <td>9008.000000</td>\n",
       "      <td>9008.000000</td>\n",
       "      <td>9008.000000</td>\n",
       "    </tr>\n",
       "    <tr>\n",
       "      <th>mean</th>\n",
       "      <td>0.000065</td>\n",
       "      <td>-2.096889e-05</td>\n",
       "      <td>2.358047e-03</td>\n",
       "      <td>-0.000389</td>\n",
       "      <td>-0.000444</td>\n",
       "      <td>0.015003</td>\n",
       "    </tr>\n",
       "    <tr>\n",
       "      <th>std</th>\n",
       "      <td>0.128107</td>\n",
       "      <td>3.590925e-02</td>\n",
       "      <td>7.677415e-01</td>\n",
       "      <td>5.944982</td>\n",
       "      <td>5.944513</td>\n",
       "      <td>0.010606</td>\n",
       "    </tr>\n",
       "    <tr>\n",
       "      <th>min</th>\n",
       "      <td>-0.379886</td>\n",
       "      <td>-1.173610e-01</td>\n",
       "      <td>-2.362900e+00</td>\n",
       "      <td>-10.000000</td>\n",
       "      <td>-10.000000</td>\n",
       "      <td>0.000000</td>\n",
       "    </tr>\n",
       "    <tr>\n",
       "      <th>25%</th>\n",
       "      <td>-0.082377</td>\n",
       "      <td>-2.591182e-02</td>\n",
       "      <td>-5.364625e-01</td>\n",
       "      <td>-5.000000</td>\n",
       "      <td>-5.000000</td>\n",
       "      <td>0.007500</td>\n",
       "    </tr>\n",
       "    <tr>\n",
       "      <th>50%</th>\n",
       "      <td>-0.000415</td>\n",
       "      <td>1.941655e-16</td>\n",
       "      <td>-2.757640e-14</td>\n",
       "      <td>0.000000</td>\n",
       "      <td>0.000000</td>\n",
       "      <td>0.015000</td>\n",
       "    </tr>\n",
       "    <tr>\n",
       "      <th>75%</th>\n",
       "      <td>0.082320</td>\n",
       "      <td>2.572845e-02</td>\n",
       "      <td>5.371665e-01</td>\n",
       "      <td>5.000000</td>\n",
       "      <td>5.000000</td>\n",
       "      <td>0.022500</td>\n",
       "    </tr>\n",
       "    <tr>\n",
       "      <th>max</th>\n",
       "      <td>0.379905</td>\n",
       "      <td>1.176840e-01</td>\n",
       "      <td>2.413130e+00</td>\n",
       "      <td>10.000000</td>\n",
       "      <td>10.000000</td>\n",
       "      <td>0.030000</td>\n",
       "    </tr>\n",
       "  </tbody>\n",
       "</table>\n",
       "</div>"
      ],
      "text/plain": [
       "              dlon          dlat          dyaw         left        right  \\\n",
       "count  9008.000000  9.008000e+03  9.008000e+03  9008.000000  9008.000000   \n",
       "mean      0.000065 -2.096889e-05  2.358047e-03    -0.000389    -0.000444   \n",
       "std       0.128107  3.590925e-02  7.677415e-01     5.944982     5.944513   \n",
       "min      -0.379886 -1.173610e-01 -2.362900e+00   -10.000000   -10.000000   \n",
       "25%      -0.082377 -2.591182e-02 -5.364625e-01    -5.000000    -5.000000   \n",
       "50%      -0.000415  1.941655e-16 -2.757640e-14     0.000000     0.000000   \n",
       "75%       0.082320  2.572845e-02  5.371665e-01     5.000000     5.000000   \n",
       "max       0.379905  1.176840e-01  2.413130e+00    10.000000    10.000000   \n",
       "\n",
       "             strut  \n",
       "count  9008.000000  \n",
       "mean      0.015003  \n",
       "std       0.010606  \n",
       "min       0.000000  \n",
       "25%       0.007500  \n",
       "50%       0.015000  \n",
       "75%       0.022500  \n",
       "max       0.030000  "
      ]
     },
     "execution_count": 184,
     "metadata": {},
     "output_type": "execute_result"
    }
   ],
   "source": [
    "dfs = pd.read_pickle('../sim/sweep/data1/f0.9/pd-data-summary.pickle')\n",
    "\n",
    "def un_minmax(val, minval, maxval):\n",
    "    '''\n",
    "           (b-a)(x - min)\n",
    "    f(x) = --------------  + a\n",
    "              max - min\n",
    "    '''\n",
    "    return (maxval - minval)*val + minval\n",
    "\n",
    "def unscale_dlon(val):\n",
    "    return un_minmax(val, dfs['dlon']['min'], dfs['dlon']['max'])\n",
    "def unscale_dlat(val):\n",
    "    return un_minmax(val, dfs['dlat']['min'], dfs['dlat']['max'])\n",
    "def unscale_dyaw(val):\n",
    "    return un_minmax(val, dfs['dyaw']['min'], dfs['dyaw']['max'])\n",
    "def unscale_left(val):\n",
    "    return un_minmax(val, dfs['left']['min'], dfs['left']['max'])\n",
    "def unscale_right(val):\n",
    "    return un_minmax(val, dfs['right']['min'], dfs['right']['max'])\n",
    "def unscale_strut(val):\n",
    "    return un_minmax(val, dfs['strut']['min'], dfs['strut']['max'])\n",
    "\n",
    "def scale_speed(val):\n",
    "    return (val + 10)/20.\n",
    "\n",
    "dfs"
   ]
  },
  {
   "cell_type": "code",
   "execution_count": 3,
   "metadata": {},
   "outputs": [
    {
     "data": {
      "text/plain": [
       "(9008, 3)"
      ]
     },
     "execution_count": 3,
     "metadata": {},
     "output_type": "execute_result"
    }
   ],
   "source": [
    "x_array = df[['left', 'right', 'strut']].values\n",
    "x_array.shape"
   ]
  },
  {
   "cell_type": "code",
   "execution_count": null,
   "metadata": {},
   "outputs": [],
   "source": [
    "nets = {}"
   ]
  },
  {
   "cell_type": "code",
   "execution_count": 16,
   "metadata": {},
   "outputs": [
    {
     "name": "stdout",
     "output_type": "stream",
     "text": [
      "Current model: dyaw\n"
     ]
    },
    {
     "data": {
      "text/plain": [
       "(9008,)"
      ]
     },
     "execution_count": 16,
     "metadata": {},
     "output_type": "execute_result"
    }
   ],
   "source": [
    "\n",
    "model_names = ['dlon', 'dlat', 'dyaw']\n",
    "model = model_names[2]\n",
    "print('Current model:', model)\n",
    "\n",
    "y_array = df[model].values\n",
    "y_array.shape"
   ]
  },
  {
   "cell_type": "code",
   "execution_count": 12,
   "metadata": {},
   "outputs": [
    {
     "name": "stdout",
     "output_type": "stream",
     "text": [
      "0.00025999037295874465\n",
      "0.00031811592575200365\n",
      "0.0006741129287139721\n",
      "0.00023665851931448226\n",
      "0.00023775223851966207\n",
      "0.0016399219521546105\n",
      "7.693123813442297e-05\n",
      "0.00024249781244805322\n",
      "0.0005452698446329399\n",
      "0.00010414746491775371\n",
      "0.00012253162640430426\n",
      "0.00035095367065889006\n",
      "0.00025919409462260237\n",
      "0.0003112289130480684\n",
      "0.0022903991081696207\n",
      "0.00019513172288001005\n",
      "0.00019009273771733226\n",
      "0.0015896582973842785\n",
      "0.0001585100004072154\n",
      "9.28931597906382e-05\n",
      "0.0010620534451205154\n",
      "0.00015299016373239186\n",
      "8.37738310189086e-05\n",
      "0.0005647208957739154\n",
      "Done\n"
     ]
    }
   ],
   "source": [
    "# Train the net\n",
    "\n",
    "losses = []\n",
    "\n",
    "for num_layers in [1, 2]:\n",
    "    for layer_size in [5, 10, 20, 40]:\n",
    "        for solver in ['lbfgs', 'adam', 'sgd']:\n",
    "\n",
    "            layers = [layer_size] * num_layers\n",
    "            net = MLPRegressor(hidden_layer_sizes=layers,\n",
    "                                    solver=solver,\n",
    "                                    learning_rate='adaptive')\n",
    "\n",
    "            net.fit(x_array, y_array)\n",
    "\n",
    "            losses.append((\n",
    "                net.loss_,\n",
    "                {\n",
    "                    'layers': layers,\n",
    "                    'solver': solver,\n",
    "                }))\n",
    "            \n",
    "            print(net.loss_)\n",
    "print('Done')"
   ]
  },
  {
   "cell_type": "code",
   "execution_count": 13,
   "metadata": {},
   "outputs": [
    {
     "name": "stdout",
     "output_type": "stream",
     "text": [
      "7.693123813442297e-05 {'layers': [20], 'solver': 'lbfgs'}\n",
      "8.37738310189086e-05 {'layers': [40, 40], 'solver': 'adam'}\n",
      "9.28931597906382e-05 {'layers': [20, 20], 'solver': 'adam'}\n",
      "0.00010414746491775371 {'layers': [40], 'solver': 'lbfgs'}\n",
      "0.00012253162640430426 {'layers': [40], 'solver': 'adam'}\n",
      "0.00015299016373239186 {'layers': [40, 40], 'solver': 'lbfgs'}\n",
      "0.0001585100004072154 {'layers': [20, 20], 'solver': 'lbfgs'}\n",
      "0.00019009273771733226 {'layers': [10, 10], 'solver': 'adam'}\n",
      "0.00019513172288001005 {'layers': [10, 10], 'solver': 'lbfgs'}\n",
      "0.00023665851931448226 {'layers': [10], 'solver': 'lbfgs'}\n",
      "0.00023775223851966207 {'layers': [10], 'solver': 'adam'}\n",
      "0.00024249781244805322 {'layers': [20], 'solver': 'adam'}\n",
      "0.00025919409462260237 {'layers': [5, 5], 'solver': 'lbfgs'}\n",
      "0.00025999037295874465 {'layers': [5], 'solver': 'lbfgs'}\n",
      "0.0003112289130480684 {'layers': [5, 5], 'solver': 'adam'}\n",
      "0.00031811592575200365 {'layers': [5], 'solver': 'adam'}\n",
      "0.00035095367065889006 {'layers': [40], 'solver': 'sgd'}\n",
      "0.0005452698446329399 {'layers': [20], 'solver': 'sgd'}\n",
      "0.0005647208957739154 {'layers': [40, 40], 'solver': 'sgd'}\n",
      "0.0006741129287139721 {'layers': [5], 'solver': 'sgd'}\n",
      "0.0010620534451205154 {'layers': [20, 20], 'solver': 'sgd'}\n",
      "0.0015896582973842785 {'layers': [10, 10], 'solver': 'sgd'}\n",
      "0.0016399219521546105 {'layers': [10], 'solver': 'sgd'}\n",
      "0.0022903991081696207 {'layers': [5, 5], 'solver': 'sgd'}\n"
     ]
    }
   ],
   "source": [
    "losses.sort()\n",
    "for loss, hypers in losses:\n",
    "    print(loss, hypers)"
   ]
  },
  {
   "cell_type": "code",
   "execution_count": 17,
   "metadata": {},
   "outputs": [
    {
     "name": "stdout",
     "output_type": "stream",
     "text": [
      "0.00016049513415089623\n"
     ]
    }
   ],
   "source": [
    "solver = 'lbfgs'\n",
    "layers = [20, 20]\n",
    "net = MLPRegressor(hidden_layer_sizes=layers,\n",
    "                        solver=solver,\n",
    "                        learning_rate='adaptive')\n",
    "\n",
    "net.fit(x_array, y_array);\n",
    "print(net.loss_)\n",
    "nets[model] = net"
   ]
  },
  {
   "cell_type": "code",
   "execution_count": null,
   "metadata": {},
   "outputs": [],
   "source": [
    "a = np.linspace(0, 1, 10)\n",
    "test_input_rotate = np.array([a, list(reversed(a)), a]).T\n",
    "test_input_forward = np.array([a, a, a]).T\n",
    "\n",
    "print(net.predict(test_input_rotate))\n",
    "print(net.predict(test_input_forward))"
   ]
  },
  {
   "cell_type": "code",
   "execution_count": 18,
   "metadata": {},
   "outputs": [
    {
     "data": {
      "text/plain": [
       "{'dlat': MLPRegressor(activation='relu', alpha=0.0001, batch_size='auto', beta_1=0.9,\n",
       "        beta_2=0.999, early_stopping=False, epsilon=1e-08,\n",
       "        hidden_layer_sizes=[20, 20], learning_rate='adaptive',\n",
       "        learning_rate_init=0.001, max_iter=200, momentum=0.9,\n",
       "        n_iter_no_change=10, nesterovs_momentum=True, power_t=0.5,\n",
       "        random_state=None, shuffle=True, solver='lbfgs', tol=0.0001,\n",
       "        validation_fraction=0.1, verbose=False, warm_start=False),\n",
       " 'dlon': MLPRegressor(activation='relu', alpha=0.0001, batch_size='auto', beta_1=0.9,\n",
       "        beta_2=0.999, early_stopping=False, epsilon=1e-08,\n",
       "        hidden_layer_sizes=[20, 20], learning_rate='adaptive',\n",
       "        learning_rate_init=0.001, max_iter=200, momentum=0.9,\n",
       "        n_iter_no_change=10, nesterovs_momentum=True, power_t=0.5,\n",
       "        random_state=None, shuffle=True, solver='lbfgs', tol=0.0001,\n",
       "        validation_fraction=0.1, verbose=False, warm_start=False),\n",
       " 'dyaw': MLPRegressor(activation='relu', alpha=0.0001, batch_size='auto', beta_1=0.9,\n",
       "        beta_2=0.999, early_stopping=False, epsilon=1e-08,\n",
       "        hidden_layer_sizes=[20, 20], learning_rate='adaptive',\n",
       "        learning_rate_init=0.001, max_iter=200, momentum=0.9,\n",
       "        n_iter_no_change=10, nesterovs_momentum=True, power_t=0.5,\n",
       "        random_state=None, shuffle=True, solver='lbfgs', tol=0.0001,\n",
       "        validation_fraction=0.1, verbose=False, warm_start=False)}"
      ]
     },
     "execution_count": 18,
     "metadata": {},
     "output_type": "execute_result"
    }
   ],
   "source": [
    "nets"
   ]
  },
  {
   "cell_type": "code",
   "execution_count": 19,
   "metadata": {},
   "outputs": [],
   "source": [
    "model_file = 'models/all_models.pickle'\n",
    "with open(model_file, 'wb') as pickle_file:\n",
    "    pickle.dump(nets, pickle_file)"
   ]
  },
  {
   "cell_type": "code",
   "execution_count": 290,
   "metadata": {},
   "outputs": [
    {
     "name": "stdout",
     "output_type": "stream",
     "text": [
      "hit target\n",
      "hit target\n",
      "hit target\n",
      "hit target\n",
      "hit target\n",
      "hit target\n",
      "hit target\n",
      "hit target\n",
      "Elapsed time: 0.2907838821411133\n",
      "601 [35, 110, 168, 273, 379, 435, 490, 598] 8\n"
     ]
    }
   ],
   "source": [
    "cm_to_m = 0.01\n",
    "deg_to_rad = pi/180.\n",
    "rad_to_deg = 180./pi\n",
    "\n",
    "# Simulate the UGV\n",
    "\n",
    "dist = 50 * 0.01\n",
    "targets = [\n",
    "    (  dist,    0. ),\n",
    "    (    0.,  dist ),\n",
    "    (  dist,  dist ),\n",
    "    ( -dist,  dist ),\n",
    "    (    0., -dist ),\n",
    "    ( -dist, -dist ),\n",
    "    ( -dist,    0. ),\n",
    "    (  dist, -dist ),\n",
    "    (    0.,    0. ),\n",
    "]\n",
    "\n",
    "target_idx = 0\n",
    "\n",
    "fsm_rad = 5*deg_to_rad\n",
    "wheel_speed = scale_speed(5)\n",
    "strut = 0.\n",
    "    \n",
    "dlon_net = nets['dlon']\n",
    "dlat_net = nets['dlat']\n",
    "dyaw_net = nets['dyaw']\n",
    "\n",
    "xs = [0.]\n",
    "zs = [0.]\n",
    "θs = [0.]\n",
    "\n",
    "dlons = [0.]\n",
    "dlats = [0.]\n",
    "dyaws = [0.]\n",
    "\n",
    "ta = [0.]\n",
    "td = [0.]\n",
    "wls = [0.]\n",
    "wrs = [0.]\n",
    "\n",
    "tis = []\n",
    "\n",
    "\n",
    "start = time()\n",
    "\n",
    "# From fsm.cpp (UPDATE_STEP)\n",
    "time_stop_ms = 30*1000\n",
    "time_step_ms = 100\n",
    "time_ms = 0\n",
    "\n",
    "while time_ms < time_stop_ms:\n",
    "    time_ms += time_step_ms\n",
    "\n",
    "    xt = xs[-1]\n",
    "    zt = zs[-1]\n",
    "    θt = θs[-1]\n",
    "\n",
    "    # Update control based on target\n",
    "    \n",
    "    tx, tz = targets[target_idx]\n",
    "    target_dist = sqrt((tx - xt)**2 + (tz - zt)**2)\n",
    "    td.append(target_dist)\n",
    "        \n",
    "    rx, rz = cos(θt), sin(θt)\n",
    "    r2tx, r2tz = tx - xt, tz - zt\n",
    "    \n",
    "    a = atan2(r2tz, r2tx) - atan2(rz, rx)\n",
    "    a -= 2*pi if a > pi else 0\n",
    "    a += 2*pi if a < -pi else 0\n",
    "    target_angle = a\n",
    "    \n",
    "    ta.append(target_angle)\n",
    "\n",
    "    if target_dist < 10*cm_to_m:\n",
    "        target_idx = (target_idx + 1) % len(targets)\n",
    "        tis.append(int(time_ms/time_step_ms))\n",
    "        print('hit target')\n",
    "\n",
    "    # Wheel speeds are in rads/s\n",
    "    if -fsm_rad < target_angle < fsm_rad:\n",
    "        wl = wheel_speed\n",
    "        wr = wheel_speed\n",
    "    elif target_angle < -fsm_rad:\n",
    "        wl = wheel_speed\n",
    "        wr = 1.-wheel_speed\n",
    "    else:\n",
    "        wl = 1.-wheel_speed\n",
    "        wr = wheel_speed\n",
    "    \n",
    "    wls.append(unscale_left(wl))\n",
    "    wrs.append(unscale_right(wr))\n",
    "\n",
    "    # Setup control input\n",
    "    u = np.array([wl, wr, strut]).reshape(1, 3)\n",
    "\n",
    "    # Simulate UGV\n",
    "    dlon = unscale_dlon(dlon_net.predict(u)).item()*(time_step_ms/1000)\n",
    "    dlat = unscale_dlat(dlat_net.predict(u)).item()*(time_step_ms/1000)\n",
    "    dyaw = unscale_dyaw(dyaw_net.predict(u)).item()*(time_step_ms/1000)\n",
    "    \n",
    "    dx = dlon*cos(θt) - dlat*sin(θt)\n",
    "    dz = dlon*sin(θt) + dlat*cos(θt)\n",
    "    \n",
    "    # Localize\n",
    "    xs.append(xt + dx)\n",
    "    zs.append(zt + dz)\n",
    "    θs.append(θt + dyaw)\n",
    "\n",
    "    # Save results\n",
    "    dlons.append(dlon)\n",
    "    dlats.append(dlat)\n",
    "    dyaws.append(dyaw)\n",
    "\n",
    "end = time()\n",
    "\n",
    "print('Elapsed time:', end-start)\n",
    "    \n",
    "df = pd.DataFrame({\n",
    "    'time': np.linspace(0, time_stop_ms * 0.001, len(dlons)),\n",
    "    'dlon': dlons,\n",
    "    'dlat': dlats,\n",
    "    'dyaw': dyaws,\n",
    "    'x': xs,\n",
    "    'z': zs,\n",
    "    'θ': [v*rad_to_deg for v in θs],\n",
    "    'ta': ta,\n",
    "    'td': td,\n",
    "    'wl': wls,\n",
    "    'wr': wrs,\n",
    "})\n",
    "print(len(xs), tis, len(tis))"
   ]
  },
  {
   "cell_type": "code",
   "execution_count": 291,
   "metadata": {},
   "outputs": [
    {
     "data": {
      "image/png": "[encoded data removed]",
      "text/plain": [
       "<Figure size 576x576 with 1 Axes>"
      ]
     },
     "metadata": {
      "needs_background": "light"
     },
     "output_type": "display_data"
    }
   ],
   "source": [
    "colors = np.linspace(0.3, 1, len(xs))\n",
    "colors[0] = 0\n",
    "ax = df.plot.scatter('z', 'x', \n",
    "                     c=colors, colormap='Oranges', colorbar=False,\n",
    "                     s=30, \n",
    "                     figsize=(8,8))\n",
    "\n",
    "tgts = np.array(targets)\n",
    "ax.plot(tgts[:,0], tgts[:,1], 'o', markerfacecolor='none', markersize=60)\n",
    "\n",
    "ax.axis('equal');\n",
    "ax.spines['top'].set_visible(False)\n",
    "ax.spines['right'].set_visible(False)\n",
    "ax.spines['bottom'].set_visible(False)\n",
    "ax.spines['left'].set_visible(False)\n",
    "\n",
    "ax.grid(color='gray', linestyle='--', linewidth=1);\n",
    "\n",
    "title_fs = 28\n",
    "label_fs = 24\n",
    "tick_fs = 18\n",
    "\n",
    "ax.set_ylabel('X (cm)', fontsize=label_fs)\n",
    "\n",
    "ax.set_ylim([-0.6, 0.6]);\n",
    "ax.set_yticks([-.5, -.25, 0, .25, .5])\n",
    "ax.set_yticklabels([-50, -25, 0, 25, 50], fontsize=tick_fs);\n",
    "\n",
    "ax.set_xlabel('Z (cm)', fontsize=label_fs)\n",
    "\n",
    "ax.set_xlim([-0.6, 0.6]);\n",
    "ax.set_xticks([-.5, -.25, 0, .25, .5])\n",
    "ax.set_xticklabels([-50, -25, 0, 25, 50], fontsize=tick_fs);\n",
    "\n",
    "ax.set_title('Simulator Neural Network Path', fontsize=title_fs);\n",
    "\n",
    "legend = ax.legend(['Target', 'Path'], bbox_to_anchor=(1, 0.6), fontsize=label_fs, frameon=False)\n",
    "\n",
    "for legend_handle in legend.legendHandles:\n",
    "    try:\n",
    "        legend_handle._legmarker.set_markersize(12)\n",
    "    except Exception:\n",
    "        legend_handle.set_color('orange')\n",
    "\n",
    "fig = plt.gcf()"
   ]
  },
  {
   "cell_type": "code",
   "execution_count": 216,
   "metadata": {},
   "outputs": [],
   "source": [
    "fig.savefig('snn-path.png', bbox_extra_artists=(legend,), bbox_inches='tight')"
   ]
  },
  {
   "cell_type": "code",
   "execution_count": null,
   "metadata": {},
   "outputs": [],
   "source": [
    "\n",
    "\n",
    "\n",
    "\n"
   ]
  },
  {
   "cell_type": "code",
   "execution_count": null,
   "metadata": {},
   "outputs": [],
   "source": []
  },
  {
   "cell_type": "code",
   "execution_count": null,
   "metadata": {},
   "outputs": [],
   "source": []
  },
  {
   "cell_type": "code",
   "execution_count": null,
   "metadata": {},
   "outputs": [],
   "source": []
  },
  {
   "cell_type": "code",
   "execution_count": null,
   "metadata": {},
   "outputs": [],
   "source": []
  },
  {
   "cell_type": "code",
   "execution_count": null,
   "metadata": {},
   "outputs": [],
   "source": []
  },
  {
   "cell_type": "code",
   "execution_count": null,
   "metadata": {},
   "outputs": [],
   "source": []
  },
  {
   "cell_type": "code",
   "execution_count": 259,
   "metadata": {},
   "outputs": [],
   "source": [
    "class State:\n",
    "\n",
    "    def __init__(self, name, left_speed, right_speed, \n",
    "                 to_left_lo, to_left_hi, \n",
    "                 to_right_lo, to_right_hi, \n",
    "                 to_forward_lo, to_forward_hi):\n",
    "\n",
    "        self.name = name\n",
    "        self.left_speed = left_speed\n",
    "        self.right_speed = right_speed\n",
    "        self.to_left_lo = to_left_lo\n",
    "        self.to_left_hi = to_left_hi\n",
    "        self.to_right_lo = to_right_lo\n",
    "        self.to_right_hi = to_right_hi\n",
    "        self.to_forward_lo = to_forward_lo\n",
    "        self.to_forward_hi = to_forward_hi\n",
    "\n",
    "    def transition(self, angle):\n",
    "        if self.to_left_lo < angle < self.to_left_hi:\n",
    "            return 'left'\n",
    "        elif self.to_right_lo < angle < self.to_right_hi:\n",
    "            return 'right';\n",
    "        elif self.to_forward_lo < angle < self.to_forward_hi:\n",
    "            return 'forward';\n",
    "        else:\n",
    "            return self.name;\n"
   ]
  },
  {
   "cell_type": "code",
   "execution_count": 280,
   "metadata": {},
   "outputs": [],
   "source": [
    "cm_to_m = 0.01\n",
    "deg_to_rad = pi/180.\n",
    "rad_to_deg = 180./pi\n",
    "\n",
    "# Simulate the UGV\n",
    "\n",
    "dist = 50 * 0.01\n",
    "targets = [\n",
    "    (  dist,    0. ),\n",
    "    (    0.,  dist ),\n",
    "    (  dist,  dist ),\n",
    "    ( -dist,  dist ),\n",
    "    (    0., -dist ),\n",
    "    ( -dist, -dist ),\n",
    "    ( -dist,    0. ),\n",
    "    (  dist, -dist ),\n",
    "    (    0.,    0. ),\n",
    "]\n",
    "\n",
    "\n",
    "dlon_net = nets['dlon']\n",
    "dlat_net = nets['dlat']\n",
    "dyaw_net = nets['dyaw']\n",
    "\n",
    "def simulate(genome, time_stop_ms=30*1000):\n",
    "    \n",
    "    wheel_speed, fsm_rad, fsm_factor = genome\n",
    "\n",
    "    # From fsm.cpp (UPDATE_STEP)\n",
    "    time_step_ms = 100\n",
    "    time_ms = 0\n",
    "    target_idx = 0\n",
    "\n",
    "    xt = 0.\n",
    "    zt = 0.\n",
    "    θt = 0.\n",
    "\n",
    "    targets_hit = 0\n",
    "    \n",
    "    state = 'forward'\n",
    "    \n",
    "    fsm = {\n",
    "        \"forward\": State(\n",
    "            \"forward\", wheel_speed, wheel_speed,\n",
    "            -2*pi, -fsm_rad, fsm_rad, 2*pi, 1, -1\n",
    "        ),\n",
    "        \"left\": State(\n",
    "            \"left\", wheel_speed, -wheel_speed,\n",
    "            1, -1, 1, -1, -fsm_rad/fsm_factor, 2*pi\n",
    "        ),\n",
    "        \"right\": State(\n",
    "            \"right\", -wheel_speed, wheel_speed,\n",
    "            1, -1, 1, -1, -2*pi, fsm_rad/fsm_factor\n",
    "        ),\n",
    "    }\n",
    "    \n",
    "    while time_ms < time_stop_ms:\n",
    "        time_ms += time_step_ms\n",
    "        \n",
    "        # Update control based on target\n",
    "\n",
    "        tx, tz = targets[target_idx]\n",
    "        target_dist = sqrt((tx - xt)**2 + (tz - zt)**2)\n",
    "\n",
    "        rx, rz = cos(θt), sin(θt)\n",
    "        r2tx, r2tz = tx - xt, tz - zt\n",
    "\n",
    "        a = atan2(r2tz, r2tx) - atan2(rz, rx)\n",
    "        a -= 2*pi if a > pi else 0\n",
    "        a += 2*pi if a < -pi else 0\n",
    "        target_angle = a\n",
    "\n",
    "        if target_dist < 10*cm_to_m:\n",
    "            target_idx = (target_idx + 1) % len(targets)\n",
    "            targets_hit += 1\n",
    "\n",
    "#         # Wheel speeds are in rads/s\n",
    "#         if -fsm_rad < target_angle < fsm_rad:\n",
    "#             wl = wheel_speed\n",
    "#             wr = wheel_speed\n",
    "#         elif target_angle < -fsm_rad:\n",
    "#             wl = wheel_speed\n",
    "#             wr = 1.-wheel_speed\n",
    "#         else:\n",
    "#             wl = 1.-wheel_speed\n",
    "#             wr = wheel_speed\n",
    "\n",
    "        state = fsm[state].transition(target_angle)\n",
    "        wl = scale_speed(fsm[state].left_speed)\n",
    "        wr = scale_speed(fsm[state].right_speed)\n",
    "\n",
    "        # Setup control input\n",
    "        u = np.array([wl, wr, 0.]).reshape(1, 3)\n",
    "                \n",
    "        # Simulate UGV\n",
    "        dlon = unscale_dlon(dlon_net.predict(u)).item()*(time_step_ms/1000)\n",
    "        dlat = unscale_dlat(dlat_net.predict(u)).item()*(time_step_ms/1000)\n",
    "        dyaw = unscale_dyaw(dyaw_net.predict(u)).item()*(time_step_ms/1000)\n",
    "        \n",
    "#         print(dlon, dlat, dyaw)\n",
    "\n",
    "        dx = dlon*cos(θt) - dlat*sin(θt)\n",
    "        dz = dlon*sin(θt) + dlat*cos(θt)\n",
    "\n",
    "        # Localize\n",
    "        xt += dx\n",
    "        zt += dz\n",
    "        θt += dyaw\n",
    "\n",
    "#         print(u, xt, zt, θt, targets_hit, target_dist, target_angle)\n",
    "\n",
    "#     return -2*targets_hit - (1 - (min(target_dist, 1)))\n",
    "    return {\n",
    "        'x': xt, \n",
    "        'z': zt, \n",
    "        'θ': θt, \n",
    "        'hits': targets_hit, \n",
    "        'dist': target_dist, \n",
    "        'angl': target_angle,\n",
    "        'fit': -2*targets_hit - (1 - (min(target_dist, 1))),\n",
    "    }\n"
   ]
  },
  {
   "cell_type": "code",
   "execution_count": 244,
   "metadata": {},
   "outputs": [
    {
     "name": "stdout",
     "output_type": "stream",
     "text": [
      "(0.45691699490032306, -0.46671778430391586, -6.6126657418722585, 8, 0.652226416924271, 2.814506772316828)\n"
     ]
    }
   ],
   "source": [
    "#print(simulate(scale_speed(10), 10*deg_to_rad, 1, 30000))\n"
   ]
  },
  {
   "cell_type": "code",
   "execution_count": 272,
   "metadata": {},
   "outputs": [
    {
     "name": "stdout",
     "output_type": "stream",
     "text": [
      "{'x': 0.43500665999519084, 'z': -0.45405254145934915, 'θ': -6.752035615574093, 'hits': 7, 'dist': 0.10763568972989393, 'angl': -0.11052729141559914}\n"
     ]
    }
   ],
   "source": [
    "print(simulate([10, 10*deg_to_rad, 1]))"
   ]
  },
  {
   "cell_type": "code",
   "execution_count": 245,
   "metadata": {},
   "outputs": [],
   "source": [
    "from scipy.optimize import differential_evolution"
   ]
  },
  {
   "cell_type": "code",
   "execution_count": 279,
   "metadata": {},
   "outputs": [
    {
     "name": "stdout",
     "output_type": "stream",
     "text": [
      "differential_evolution step 1: f(x)= -14.9133\n",
      "differential_evolution step 2: f(x)= -14.9133\n",
      "differential_evolution step 3: f(x)= -14.9133\n",
      "differential_evolution step 4: f(x)= -14.9133\n",
      "differential_evolution step 5: f(x)= -14.9147\n",
      "differential_evolution step 6: f(x)= -14.9147\n",
      "differential_evolution step 7: f(x)= -14.9185\n",
      "differential_evolution step 8: f(x)= -14.9185\n",
      "differential_evolution step 9: f(x)= -14.9185\n",
      "differential_evolution step 10: f(x)= -14.9185\n",
      "differential_evolution step 11: f(x)= -14.9185\n",
      "differential_evolution step 12: f(x)= -14.9185\n",
      "differential_evolution step 13: f(x)= -14.9185\n",
      "differential_evolution step 14: f(x)= -16.3608\n",
      "differential_evolution step 15: f(x)= -16.3608\n",
      "differential_evolution step 16: f(x)= -16.9196\n",
      "differential_evolution step 17: f(x)= -16.9196\n",
      "differential_evolution step 18: f(x)= -16.9196\n",
      "differential_evolution step 19: f(x)= -16.9196\n",
      "differential_evolution step 20: f(x)= -16.9196\n",
      "111.43970203399658 seconds\n"
     ]
    }
   ],
   "source": [
    "start = time()\n",
    "res = differential_evolution(simulate, ((0, 10), (0, 30*deg_to_rad), (0.1, 4)), disp=True, maxiter=20)\n",
    "end = time()\n",
    "print(end-start, 'seconds')"
   ]
  },
  {
   "cell_type": "code",
   "execution_count": 278,
   "metadata": {},
   "outputs": [
    {
     "data": {
      "text/plain": [
       "     fun: -16.927854987600487\n",
       "     jac: array([-0.78511526,  0.        ,  0.        ])\n",
       " message: 'Maximum number of iterations has been exceeded.'\n",
       "    nfev: 1253\n",
       "     nit: 20\n",
       " success: False\n",
       "       x: array([9.96156682, 0.20001472, 1.86229592])"
      ]
     },
     "execution_count": 278,
     "metadata": {},
     "output_type": "execute_result"
    }
   ],
   "source": [
    "res"
   ]
  },
  {
   "cell_type": "code",
   "execution_count": 281,
   "metadata": {},
   "outputs": [
    {
     "data": {
      "text/plain": [
       "{'x': 0.4579939365597141,\n",
       " 'z': -0.46875305331777456,\n",
       " 'θ': -0.5476931655382261,\n",
       " 'hits': 8,\n",
       " 'dist': 0.08035266632277083,\n",
       " 'angl': -0.06343988321656624,\n",
       " 'fit': -16.91964733367723}"
      ]
     },
     "execution_count": 281,
     "metadata": {},
     "output_type": "execute_result"
    }
   ],
   "source": [
    "simulate(res.x)"
   ]
  },
  {
   "cell_type": "code",
   "execution_count": 284,
   "metadata": {},
   "outputs": [
    {
     "data": {
      "text/plain": [
       "10.056652380182527"
      ]
     },
     "execution_count": 284,
     "metadata": {},
     "output_type": "execute_result"
    }
   ],
   "source": [
    "res.x[1]*rad_to_deg"
   ]
  },
  {
   "cell_type": "code",
   "execution_count": null,
   "metadata": {},
   "outputs": [],
   "source": []
  }
 ],
 "metadata": {
  "kernelspec": {
   "display_name": "Python 3",
   "language": "python",
   "name": "python3"
  },
  "language_info": {
   "codemirror_mode": {
    "name": "ipython",
    "version": 3
   },
   "file_extension": ".py",
   "mimetype": "text/x-python",
   "name": "python",
   "nbconvert_exporter": "python",
   "pygments_lexer": "ipython3",
   "version": "3.7.2"
  }
 },
 "nbformat": 4,
 "nbformat_minor": 2
}
